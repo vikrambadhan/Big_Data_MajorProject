{
  "nbformat": 4,
  "nbformat_minor": 0,
  "metadata": {
    "colab": {
      "provenance": [],
      "toc_visible": true
    },
    "kernelspec": {
      "name": "python3",
      "display_name": "Python 3"
    },
    "language_info": {
      "name": "python"
    }
  },
  "cells": [
    {
      "cell_type": "markdown",
      "source": [
        "# Reading the data set"
      ],
      "metadata": {
        "id": "vA8f4GABa8lS"
      }
    },
    {
      "cell_type": "code",
      "source": [
        "from google.colab import drive\n",
        "drive.mount('/content/drive')"
      ],
      "metadata": {
        "colab": {
          "base_uri": "https://localhost:8080/"
        },
        "id": "HkN8KBK_a_pC",
        "outputId": "eeff49b9-788f-4105-c9a2-f4067c721a40"
      },
      "execution_count": 1,
      "outputs": [
        {
          "output_type": "stream",
          "name": "stdout",
          "text": [
            "Mounted at /content/drive\n"
          ]
        }
      ]
    },
    {
      "cell_type": "code",
      "source": [
        "!pip3 install pyspark\n",
        "import pyspark"
      ],
      "metadata": {
        "colab": {
          "base_uri": "https://localhost:8080/"
        },
        "id": "NIJ6E2NzbR3E",
        "outputId": "5aac8b7c-15ba-4414-bd69-4f437ce9aba6"
      },
      "execution_count": 2,
      "outputs": [
        {
          "output_type": "stream",
          "name": "stdout",
          "text": [
            "Looking in indexes: https://pypi.org/simple, https://us-python.pkg.dev/colab-wheels/public/simple/\n",
            "Collecting pyspark\n",
            "  Downloading pyspark-3.3.1.tar.gz (281.4 MB)\n",
            "\u001b[K     |████████████████████████████████| 281.4 MB 44 kB/s \n",
            "\u001b[?25hCollecting py4j==0.10.9.5\n",
            "  Downloading py4j-0.10.9.5-py2.py3-none-any.whl (199 kB)\n",
            "\u001b[K     |████████████████████████████████| 199 kB 64.1 MB/s \n",
            "\u001b[?25hBuilding wheels for collected packages: pyspark\n",
            "  Building wheel for pyspark (setup.py) ... \u001b[?25l\u001b[?25hdone\n",
            "  Created wheel for pyspark: filename=pyspark-3.3.1-py2.py3-none-any.whl size=281845512 sha256=16bb82800740944d4ddeb62749def832d03f53928d7bd8618925ca05954417b0\n",
            "  Stored in directory: /root/.cache/pip/wheels/43/dc/11/ec201cd671da62fa9c5cc77078235e40722170ceba231d7598\n",
            "Successfully built pyspark\n",
            "Installing collected packages: py4j, pyspark\n",
            "Successfully installed py4j-0.10.9.5 pyspark-3.3.1\n"
          ]
        }
      ]
    },
    {
      "cell_type": "code",
      "source": [
        "import os\n",
        "import pyspark\n",
        "conf = pyspark.SparkConf()"
      ],
      "metadata": {
        "id": "rOeZDQg8tSXh"
      },
      "execution_count": 113,
      "outputs": []
    },
    {
      "cell_type": "code",
      "source": [
        "spark = pyspark.sql.SparkSession.builder\\\n",
        "        .master('local[*]')\\\n",
        "        .appName('vikram_finalProject final')\\\n",
        "        .config(\"spark.some.config.option\", \"some-value\") \\\n",
        "        .getOrCreate()"
      ],
      "metadata": {
        "id": "7KlYiycmbWx_"
      },
      "execution_count": 101,
      "outputs": []
    },
    {
      "cell_type": "code",
      "source": [
        "spark = pyspark.SQLContext.getOrCreate(sc)\n",
        "sc.setLogLevel(\"ERROR\")\n",
        "from pyspark.sql.functions import *"
      ],
      "metadata": {
        "id": "mpuyswFzs_Cc"
      },
      "execution_count": 115,
      "outputs": []
    },
    {
      "cell_type": "code",
      "source": [
        "from pyspark.sql.functions import sum, col, desc\n",
        "from pyspark.sql import SparkSession\n",
        "from pyspark.sql.functions import avg, col, desc\n",
        "import seaborn as sns\n",
        "import matplotlib.pyplot as plt\n",
        "import numpy as np\n"
      ],
      "metadata": {
        "id": "HqUGuzI99xhw"
      },
      "execution_count": null,
      "outputs": []
    },
    {
      "cell_type": "code",
      "source": [
        "df = spark.read.option(\"header\",True).option(\"inferSchema\" , \"true\").csv(\"drive/MyDrive/Big Data Project/Dataset/international_matches.csv\" )\n",
        "\n",
        "df.printSchema()"
      ],
      "metadata": {
        "colab": {
          "base_uri": "https://localhost:8080/"
        },
        "id": "EM-J2KL4bcgf",
        "outputId": "a5695032-f8e1-4bd0-9019-2e55457e6db2"
      },
      "execution_count": 448,
      "outputs": [
        {
          "output_type": "stream",
          "name": "stdout",
          "text": [
            "root\n",
            " |-- date: timestamp (nullable = true)\n",
            " |-- home_team: string (nullable = true)\n",
            " |-- away_team: string (nullable = true)\n",
            " |-- home_team_continent: string (nullable = true)\n",
            " |-- away_team_continent: string (nullable = true)\n",
            " |-- home_team_fifa_rank: integer (nullable = true)\n",
            " |-- away_team_fifa_rank: integer (nullable = true)\n",
            " |-- home_team_total_fifa_points: integer (nullable = true)\n",
            " |-- away_team_total_fifa_points: integer (nullable = true)\n",
            " |-- home_team_score: integer (nullable = true)\n",
            " |-- away_team_score: integer (nullable = true)\n",
            " |-- tournament: string (nullable = true)\n",
            " |-- city: string (nullable = true)\n",
            " |-- country: string (nullable = true)\n",
            " |-- neutral_location: boolean (nullable = true)\n",
            " |-- shoot_out: string (nullable = true)\n",
            " |-- home_team_result: string (nullable = true)\n",
            " |-- home_team_goalkeeper_score: double (nullable = true)\n",
            " |-- away_team_goalkeeper_score: double (nullable = true)\n",
            " |-- home_team_mean_defense_score: double (nullable = true)\n",
            " |-- home_team_mean_offense_score: double (nullable = true)\n",
            " |-- home_team_mean_midfield_score: double (nullable = true)\n",
            " |-- away_team_mean_defense_score: double (nullable = true)\n",
            " |-- away_team_mean_offense_score: double (nullable = true)\n",
            " |-- away_team_mean_midfield_score: double (nullable = true)\n",
            "\n"
          ]
        }
      ]
    },
    {
      "cell_type": "markdown",
      "source": [
        "# schema details, Data types and table description"
      ],
      "metadata": {
        "id": "wFN5QbLFOpqM"
      }
    },
    {
      "cell_type": "code",
      "source": [
        "df.columns"
      ],
      "metadata": {
        "colab": {
          "base_uri": "https://localhost:8080/"
        },
        "id": "Tgf32K3zOsxe",
        "outputId": "c85f4a21-3aeb-4311-a58c-4be6d2486cdd"
      },
      "execution_count": 449,
      "outputs": [
        {
          "output_type": "execute_result",
          "data": {
            "text/plain": [
              "['date',\n",
              " 'home_team',\n",
              " 'away_team',\n",
              " 'home_team_continent',\n",
              " 'away_team_continent',\n",
              " 'home_team_fifa_rank',\n",
              " 'away_team_fifa_rank',\n",
              " 'home_team_total_fifa_points',\n",
              " 'away_team_total_fifa_points',\n",
              " 'home_team_score',\n",
              " 'away_team_score',\n",
              " 'tournament',\n",
              " 'city',\n",
              " 'country',\n",
              " 'neutral_location',\n",
              " 'shoot_out',\n",
              " 'home_team_result',\n",
              " 'home_team_goalkeeper_score',\n",
              " 'away_team_goalkeeper_score',\n",
              " 'home_team_mean_defense_score',\n",
              " 'home_team_mean_offense_score',\n",
              " 'home_team_mean_midfield_score',\n",
              " 'away_team_mean_defense_score',\n",
              " 'away_team_mean_offense_score',\n",
              " 'away_team_mean_midfield_score']"
            ]
          },
          "metadata": {},
          "execution_count": 449
        }
      ]
    },
    {
      "cell_type": "code",
      "source": [
        "df.show()"
      ],
      "metadata": {
        "colab": {
          "base_uri": "https://localhost:8080/"
        },
        "id": "lQAEJTh2O0P1",
        "outputId": "edb655d4-a2ef-4e59-9cbd-cfe4f69f3a89"
      },
      "execution_count": 450,
      "outputs": [
        {
          "output_type": "stream",
          "name": "stdout",
          "text": [
            "+-------------------+-------------+------------+-------------------+-------------------+-------------------+-------------------+---------------------------+---------------------------+---------------+---------------+--------------------+------------+-------------+----------------+---------+----------------+--------------------------+--------------------------+----------------------------+----------------------------+-----------------------------+----------------------------+----------------------------+-----------------------------+\n",
            "|               date|    home_team|   away_team|home_team_continent|away_team_continent|home_team_fifa_rank|away_team_fifa_rank|home_team_total_fifa_points|away_team_total_fifa_points|home_team_score|away_team_score|          tournament|        city|      country|neutral_location|shoot_out|home_team_result|home_team_goalkeeper_score|away_team_goalkeeper_score|home_team_mean_defense_score|home_team_mean_offense_score|home_team_mean_midfield_score|away_team_mean_defense_score|away_team_mean_offense_score|away_team_mean_midfield_score|\n",
            "+-------------------+-------------+------------+-------------------+-------------------+-------------------+-------------------+---------------------------+---------------------------+---------------+---------------+--------------------+------------+-------------+----------------+---------+----------------+--------------------------+--------------------------+----------------------------+----------------------------+-----------------------------+----------------------------+----------------------------+-----------------------------+\n",
            "|1993-08-08 00:00:00|      Bolivia|     Uruguay|      South America|      South America|                 59|                 22|                          0|                          0|              3|              1|FIFA World Cup qu...|      La Paz|      Bolivia|           false|       No|             Win|                      null|                      null|                        null|                        null|                         null|                        null|                        null|                         null|\n",
            "|1993-08-08 00:00:00|       Brazil|      Mexico|      South America|      North America|                  8|                 14|                          0|                          0|              1|              1|            Friendly|      Maceió|       Brazil|           false|       No|            Draw|                      null|                      null|                        null|                        null|                         null|                        null|                        null|                         null|\n",
            "|1993-08-08 00:00:00|      Ecuador|   Venezuela|      South America|      South America|                 35|                 94|                          0|                          0|              5|              0|FIFA World Cup qu...|       Quito|      Ecuador|           false|       No|             Win|                      null|                      null|                        null|                        null|                         null|                        null|                        null|                         null|\n",
            "|1993-08-08 00:00:00|       Guinea|Sierra Leone|             Africa|             Africa|                 65|                 86|                          0|                          0|              1|              0|            Friendly|     Conakry|       Guinea|           false|       No|             Win|                      null|                      null|                        null|                        null|                         null|                        null|                        null|                         null|\n",
            "|1993-08-08 00:00:00|     Paraguay|   Argentina|      South America|      South America|                 67|                  5|                          0|                          0|              1|              3|FIFA World Cup qu...|    Asunción|     Paraguay|           false|       No|            Lose|                      null|                      null|                        null|                        null|                         null|                        null|                        null|                         null|\n",
            "|1993-08-08 00:00:00|         Peru|    Colombia|      South America|      South America|                 70|                 19|                          0|                          0|              0|              1|FIFA World Cup qu...|        Lima|         Peru|           false|       No|            Lose|                      null|                      null|                        null|                        null|                         null|                        null|                        null|                         null|\n",
            "|1993-08-08 00:00:00|     Zimbabwe|    Eswatini|             Africa|             Africa|                 50|                102|                          0|                          0|              2|              0|            Friendly|      Harare|     Zimbabwe|           false|       No|             Win|                      null|                      null|                        null|                        null|                         null|                        null|                        null|                         null|\n",
            "|1993-08-09 00:00:00|       Guinea|Sierra Leone|             Africa|             Africa|                 65|                 86|                          0|                          0|              4|              0|            Friendly|     Conakry|       Guinea|           false|       No|             Win|                      null|                      null|                        null|                        null|                         null|                        null|                        null|                         null|\n",
            "|1993-08-11 00:00:00|Faroe Islands|      Norway|             Europe|             Europe|                111|                  9|                          0|                          0|              0|              7|            Friendly|      Toftir|Faroe Islands|           false|       No|            Lose|                      null|                      null|                        null|                        null|                         null|                        null|                        null|                         null|\n",
            "|1993-08-11 00:00:00|       Sweden| Switzerland|             Europe|             Europe|                  4|                  3|                          0|                          0|              1|              2|            Friendly|       Borås|       Sweden|           false|       No|            Lose|                      null|                      null|                        null|                        null|                         null|                        null|                        null|                         null|\n",
            "|1993-08-15 00:00:00|    Australia|      Canada|            Oceania|      North America|                 52|                 46|                          0|                          0|              2|              1|FIFA World Cup qu...|      Sydney|    Australia|           false|      Yes|             Win|                      null|                      null|                        null|                        null|                         null|                        null|                        null|                         null|\n",
            "|1993-08-15 00:00:00|      Bolivia|     Ecuador|      South America|      South America|                 59|                 35|                          0|                          0|              1|              0|FIFA World Cup qu...|      La Paz|      Bolivia|           false|       No|             Win|                      null|                      null|                        null|                        null|                         null|                        null|                        null|                         null|\n",
            "|1993-08-15 00:00:00|     Colombia|   Argentina|      South America|      South America|                 19|                  5|                          0|                          0|              2|              1|FIFA World Cup qu...|Barranquilla|     Colombia|           false|       No|             Win|                      null|                      null|                        null|                        null|                         null|                        null|                        null|                         null|\n",
            "|1993-08-15 00:00:00|        Congo|      Guinea|             Africa|             Africa|                107|                 65|                          0|                          0|              0|              0|African Cup of Na...|Pointe-Noire|        Congo|           false|       No|            Draw|                      null|                      null|                        null|                        null|                         null|                        null|                        null|                         null|\n",
            "|1993-08-15 00:00:00|      Uruguay|      Brazil|      South America|      South America|                 22|                  8|                          0|                          0|              1|              1|FIFA World Cup qu...|  Montevideo|      Uruguay|           false|       No|            Draw|                      null|                      null|                        null|                        null|                         null|                        null|                        null|                         null|\n",
            "|1993-08-22 00:00:00|    Argentina|        Peru|      South America|      South America|                  5|                 70|                          0|                          0|              2|              1|FIFA World Cup qu...|Buenos Aires|    Argentina|           false|       No|             Win|                      null|                      null|                        null|                        null|                         null|                        null|                        null|                         null|\n",
            "|1993-08-22 00:00:00|      Bolivia|   Venezuela|      South America|      South America|                 59|                 94|                          0|                          0|              7|              0|FIFA World Cup qu...|      La Paz|      Bolivia|           false|       No|             Win|                      null|                      null|                        null|                        null|                         null|                        null|                        null|                         null|\n",
            "|1993-08-22 00:00:00|       Brazil|     Ecuador|      South America|      South America|                  8|                 35|                          0|                          0|              2|              0|FIFA World Cup qu...|   São Paulo|       Brazil|           false|       No|             Win|                      null|                      null|                        null|                        null|                         null|                        null|                        null|                         null|\n",
            "|1993-08-22 00:00:00|     Paraguay|    Colombia|      South America|      South America|                 67|                 19|                          0|                          0|              1|              1|FIFA World Cup qu...|    Asunción|     Paraguay|           false|       No|            Draw|                      null|                      null|                        null|                        null|                         null|                        null|                        null|                         null|\n",
            "|1993-08-22 00:00:00|       Sweden|      France|             Europe|             Europe|                  4|                 12|                          0|                          0|              1|              1|FIFA World Cup qu...|       Solna|       Sweden|           false|       No|            Draw|                      null|                      null|                        null|                        null|                         null|                        null|                        null|                         null|\n",
            "+-------------------+-------------+------------+-------------------+-------------------+-------------------+-------------------+---------------------------+---------------------------+---------------+---------------+--------------------+------------+-------------+----------------+---------+----------------+--------------------------+--------------------------+----------------------------+----------------------------+-----------------------------+----------------------------+----------------------------+-----------------------------+\n",
            "only showing top 20 rows\n",
            "\n"
          ]
        }
      ]
    },
    {
      "cell_type": "code",
      "source": [
        "df.dtypes"
      ],
      "metadata": {
        "colab": {
          "base_uri": "https://localhost:8080/"
        },
        "id": "I40b-OpOO4qO",
        "outputId": "17866e88-4946-47ee-c417-b25e9c2a2418"
      },
      "execution_count": 453,
      "outputs": [
        {
          "output_type": "execute_result",
          "data": {
            "text/plain": [
              "[('date', 'timestamp'),\n",
              " ('home_team', 'string'),\n",
              " ('away_team', 'string'),\n",
              " ('home_team_continent', 'string'),\n",
              " ('away_team_continent', 'string'),\n",
              " ('home_team_fifa_rank', 'int'),\n",
              " ('away_team_fifa_rank', 'int'),\n",
              " ('home_team_total_fifa_points', 'int'),\n",
              " ('away_team_total_fifa_points', 'int'),\n",
              " ('home_team_score', 'int'),\n",
              " ('away_team_score', 'int'),\n",
              " ('tournament', 'string'),\n",
              " ('city', 'string'),\n",
              " ('country', 'string'),\n",
              " ('neutral_location', 'boolean'),\n",
              " ('shoot_out', 'string'),\n",
              " ('home_team_result', 'string'),\n",
              " ('home_team_goalkeeper_score', 'double'),\n",
              " ('away_team_goalkeeper_score', 'double'),\n",
              " ('home_team_mean_defense_score', 'double'),\n",
              " ('home_team_mean_offense_score', 'double'),\n",
              " ('home_team_mean_midfield_score', 'double'),\n",
              " ('away_team_mean_defense_score', 'double'),\n",
              " ('away_team_mean_offense_score', 'double'),\n",
              " ('away_team_mean_midfield_score', 'double')]"
            ]
          },
          "metadata": {},
          "execution_count": 453
        }
      ]
    },
    {
      "cell_type": "markdown",
      "source": [
        "# EDA - Exploratory Data Analysis"
      ],
      "metadata": {
        "id": "jnt55mHqPK7n"
      }
    },
    {
      "cell_type": "markdown",
      "source": [
        "## correlation Matrix"
      ],
      "metadata": {
        "id": "Lm15qZRIPlkI"
      }
    },
    {
      "cell_type": "code",
      "source": [
        "df = spark.read.option(\"header\",True).option(\"inferSchema\" , \"true\").csv(\"drive/MyDrive/Big Data Project/Dataset/training.csv\", )\n",
        "\n",
        "df.printSchema()"
      ],
      "metadata": {
        "colab": {
          "base_uri": "https://localhost:8080/"
        },
        "id": "T2AAL0d45fio",
        "outputId": "ee22a12d-7e4c-4583-af4f-98c1316709fa"
      },
      "execution_count": 435,
      "outputs": [
        {
          "output_type": "stream",
          "name": "stdout",
          "text": [
            "root\n",
            " |-- Team1: string (nullable = true)\n",
            " |-- Team2: string (nullable = true)\n",
            " |-- Team1_FIFA_RANK: integer (nullable = true)\n",
            " |-- Team2_FIFA_RANK: integer (nullable = true)\n",
            " |-- Team1_Result: integer (nullable = true)\n",
            " |-- Team1_Goalkeeper_Score: double (nullable = true)\n",
            " |-- Team2_Goalkeeper_Score: double (nullable = true)\n",
            " |-- Team1_Defense: double (nullable = true)\n",
            " |-- Team1_Offense: double (nullable = true)\n",
            " |-- Team1_Midfield: double (nullable = true)\n",
            " |-- Team2_Defense: double (nullable = true)\n",
            " |-- Team2_Offense: double (nullable = true)\n",
            " |-- Team2_Midfield: double (nullable = true)\n",
            "\n"
          ]
        }
      ]
    },
    {
      "cell_type": "code",
      "source": [
        "df = df.select(\"Team1_FIFA_RANK\",\"Team2_FIFA_RANK\",\"Team1_Result\",\"Team1_Goalkeeper_Score\",\"Team2_Goalkeeper_Score\",\"Team1_Defense\",\"Team1_Offense\",\"Team1_Midfield\",\"Team2_Defense\",\"Team2_Offense\",\"Team2_Midfield\")"
      ],
      "metadata": {
        "id": "wvr_mhs_6aGK"
      },
      "execution_count": 436,
      "outputs": []
    },
    {
      "cell_type": "code",
      "source": [
        "df = df.withColumnRenamed(\"Team1_Result\",\"label\")\n",
        "df = df.na.drop()"
      ],
      "metadata": {
        "id": "FPfABVJU6Hn1"
      },
      "execution_count": 437,
      "outputs": []
    },
    {
      "cell_type": "code",
      "source": [
        "va_df = assembler.transform(df)\n",
        "va_df = va_df.select(['features', 'label'])\n",
        "va_df.show(3)"
      ],
      "metadata": {
        "colab": {
          "base_uri": "https://localhost:8080/"
        },
        "id": "wNOPbjLzNzaB",
        "outputId": "cc007327-d4a6-4fef-e162-b4b57b697063"
      },
      "execution_count": 443,
      "outputs": [
        {
          "output_type": "stream",
          "name": "stdout",
          "text": [
            "+--------------------+-----+\n",
            "|            features|label|\n",
            "+--------------------+-----+\n",
            "|[59.0,22.0,1.0,67...|    1|\n",
            "|[8.0,14.0,2.0,86....|    2|\n",
            "|[35.0,94.0,1.0,71...|    1|\n",
            "+--------------------+-----+\n",
            "only showing top 3 rows\n",
            "\n"
          ]
        }
      ]
    },
    {
      "cell_type": "code",
      "source": [
        "from pyspark.ml.stat import Correlation\n",
        "from pyspark.ml.linalg import DenseMatrix, Vectors\n",
        "from pyspark.ml.feature import VectorAssembler\n",
        "from pyspark.sql.functions import *\n",
        "assembler = VectorAssembler(inputCols=df.columns, \n",
        "outputCol=\"features\",handleInvalid='keep')\n",
        "df1= assembler.transform(df).select(\"features\")\n",
        "correlation = Correlation.corr(df1,\"features\",\"pearson\").collect()[0][0]\n",
        "print(correlation)"
      ],
      "metadata": {
        "colab": {
          "base_uri": "https://localhost:8080/"
        },
        "id": "1xgptN_QNh8J",
        "outputId": "24c10e3b-2616-47d8-dc4a-af29549603e6"
      },
      "execution_count": 444,
      "outputs": [
        {
          "output_type": "stream",
          "name": "stdout",
          "text": [
            "DenseMatrix([[ 1.        ,  0.0518981 , -0.18635504, -0.72481697, -0.08662547,\n",
            "              -0.78225461, -0.78069194, -0.78185126, -0.05667924, -0.0688722 ,\n",
            "              -0.05919089],\n",
            "             [ 0.0518981 ,  1.        ,  0.1113663 , -0.1198363 , -0.7252247 ,\n",
            "              -0.07828128, -0.09186325, -0.08387365, -0.782428  , -0.7881121 ,\n",
            "              -0.78895942],\n",
            "             [-0.18635504,  0.1113663 ,  1.        ,  0.12250889, -0.12483728,\n",
            "               0.15884057,  0.16598054,  0.15763915, -0.1223539 , -0.11705532,\n",
            "              -0.12750494],\n",
            "             [-0.72481697, -0.1198363 ,  0.12250889,  1.        ,  0.21788527,\n",
            "               0.85197939,  0.83216813,  0.83825268,  0.17463843,  0.17287993,\n",
            "               0.17344554],\n",
            "             [-0.08662547, -0.7252247 , -0.12483728,  0.21788527,  1.        ,\n",
            "               0.15981704,  0.16127244,  0.15928439,  0.83639683,  0.8106077 ,\n",
            "               0.81902229],\n",
            "             [-0.78225461, -0.07828128,  0.15884057,  0.85197939,  0.15981704,\n",
            "               1.        ,  0.91946862,  0.93490344,  0.14191697,  0.15340554,\n",
            "               0.14304311],\n",
            "             [-0.78069194, -0.09186325,  0.16598054,  0.83216813,  0.16127244,\n",
            "               0.91946862,  1.        ,  0.90542106,  0.15253496,  0.1679475 ,\n",
            "               0.15539703],\n",
            "             [-0.78185126, -0.08387365,  0.15763915,  0.83825268,  0.15928439,\n",
            "               0.93490344,  0.90542106,  1.        ,  0.14282544,  0.15234303,\n",
            "               0.14371248],\n",
            "             [-0.05667924, -0.782428  , -0.1223539 ,  0.17463843,  0.83639683,\n",
            "               0.14191697,  0.15253496,  0.14282544,  1.        ,  0.90857362,\n",
            "               0.92394982],\n",
            "             [-0.0688722 , -0.7881121 , -0.11705532,  0.17287993,  0.8106077 ,\n",
            "               0.15340554,  0.1679475 ,  0.15234303,  0.90857362,  1.        ,\n",
            "               0.89343534],\n",
            "             [-0.05919089, -0.78895942, -0.12750494,  0.17344554,  0.81902229,\n",
            "               0.14304311,  0.15539703,  0.14371248,  0.92394982,  0.89343534,\n",
            "               1.        ]])\n"
          ]
        }
      ]
    },
    {
      "cell_type": "code",
      "source": [
        "rows = correlation.toArray().tolist()\n",
        "df2= spark.createDataFrame(rows,df.columns)\n",
        "corr_matrix_df = pd.DataFrame(data=rows, columns = df.columns, index=df.columns) \n",
        "import seaborn as sns \n",
        "import matplotlib.pyplot as plt\n",
        "\n",
        "plt.figure(figsize=(10,10))  \n",
        "sns.heatmap(corr_matrix_df, \n",
        "            xticklabels=corr_matrix_df.columns.values,\n",
        "            yticklabels=corr_matrix_df.columns.values,  cmap=\"Greens\", annot=True)"
      ],
      "metadata": {
        "colab": {
          "base_uri": "https://localhost:8080/",
          "height": 730
        },
        "id": "m0nmI33AOAlF",
        "outputId": "d78d603e-6922-4a7b-9a5c-eb057e3c9298"
      },
      "execution_count": 446,
      "outputs": [
        {
          "output_type": "execute_result",
          "data": {
            "text/plain": [
              "<matplotlib.axes._subplots.AxesSubplot at 0x7f6381640ee0>"
            ]
          },
          "metadata": {},
          "execution_count": 446
        },
        {
          "output_type": "display_data",
          "data": {
            "text/plain": [
              "<Figure size 720x720 with 2 Axes>"
            ],
            "image/png": "[encoded data removed]"
          },
          "metadata": {
            "needs_background": "light"
          }
        }
      ]
    },
    {
      "cell_type": "code",
      "source": [],
      "metadata": {
        "id": "lSJ1wWxFPPVx"
      },
      "execution_count": null,
      "outputs": []
    },
    {
      "cell_type": "markdown",
      "source": [
        "## Top 10 Fifa teams in the last FIFA date"
      ],
      "metadata": {
        "id": "eCVzraJBHJlF"
      }
    },
    {
      "cell_type": "code",
      "source": [
        "df_international = df.select('date','home_team', 'away_team', 'home_team_fifa_rank', 'away_team_fifa_rank')\n",
        "df_home =df_international.select('date', 'home_team', 'home_team_fifa_rank')\n",
        "df_away=df_international.select('date', 'away_team', 'away_team_fifa_rank')\n",
        "df_home = df_home.withColumnRenamed('home_team','team')\n",
        "df_home = df_home.withColumnRenamed('home_team_fifa_rank','rank')\n",
        "df_away = df_away.withColumnRenamed('away_team','team')\n",
        "df_away = df_away.withColumnRenamed('away_team_fifa_rank','team')\n",
        "df_international = df_home.union(df_away)\n",
        "df_international.groupBy(\"team\")"
      ],
      "metadata": {
        "colab": {
          "base_uri": "https://localhost:8080/"
        },
        "id": "EumHyjVhcHFh",
        "outputId": "a227eedf-42e7-4eb5-8dc8-15928b1e8d3d"
      },
      "execution_count": 455,
      "outputs": [
        {
          "output_type": "execute_result",
          "data": {
            "text/plain": [
              "<pyspark.sql.group.GroupedData at 0x7f6382732820>"
            ]
          },
          "metadata": {},
          "execution_count": 455
        }
      ]
    },
    {
      "cell_type": "code",
      "source": [
        "df_international.show()"
      ],
      "metadata": {
        "colab": {
          "base_uri": "https://localhost:8080/"
        },
        "id": "D7PmLW8aeaMO",
        "outputId": "2a927c19-4a7f-46ed-85fb-5b088e7bbb20"
      },
      "execution_count": 456,
      "outputs": [
        {
          "output_type": "stream",
          "name": "stdout",
          "text": [
            "+-------------------+-------------+----+\n",
            "|               date|         team|rank|\n",
            "+-------------------+-------------+----+\n",
            "|1993-08-08 00:00:00|      Bolivia|  59|\n",
            "|1993-08-08 00:00:00|       Brazil|   8|\n",
            "|1993-08-08 00:00:00|      Ecuador|  35|\n",
            "|1993-08-08 00:00:00|       Guinea|  65|\n",
            "|1993-08-08 00:00:00|     Paraguay|  67|\n",
            "|1993-08-08 00:00:00|         Peru|  70|\n",
            "|1993-08-08 00:00:00|     Zimbabwe|  50|\n",
            "|1993-08-09 00:00:00|       Guinea|  65|\n",
            "|1993-08-11 00:00:00|Faroe Islands| 111|\n",
            "|1993-08-11 00:00:00|       Sweden|   4|\n",
            "|1993-08-15 00:00:00|    Australia|  52|\n",
            "|1993-08-15 00:00:00|      Bolivia|  59|\n",
            "|1993-08-15 00:00:00|     Colombia|  19|\n",
            "|1993-08-15 00:00:00|        Congo| 107|\n",
            "|1993-08-15 00:00:00|      Uruguay|  22|\n",
            "|1993-08-22 00:00:00|    Argentina|   5|\n",
            "|1993-08-22 00:00:00|      Bolivia|  59|\n",
            "|1993-08-22 00:00:00|       Brazil|   8|\n",
            "|1993-08-22 00:00:00|     Paraguay|  67|\n",
            "|1993-08-22 00:00:00|       Sweden|   4|\n",
            "+-------------------+-------------+----+\n",
            "only showing top 20 rows\n",
            "\n"
          ]
        }
      ]
    },
    {
      "cell_type": "code",
      "source": [
        "to_date(col(\"date\"),\"yyyy-mm-dd\") \n",
        "df7= df_international.sort(df_international.team.asc(),df_international.date.desc(),df_international.rank.asc())\n",
        "df7 = df7.select(\"team\", \"rank\", year(\"date\").alias(\"year\")).filter(col(\"year\")>=2022).drop(\"year\")\n",
        "df7 = df7.groupBy(\"team\", \"rank\").count()\n",
        "df7 = df7.sort(df7.rank.desc())"
      ],
      "metadata": {
        "id": "AoQiIPKTiLMP"
      },
      "execution_count": 457,
      "outputs": []
    },
    {
      "cell_type": "code",
      "source": [
        "from pyspark.sql.window import Window\n",
        "w2 = Window.partitionBy(\"rank\").orderBy(\"rank\")\n",
        "df88 = df7.withColumn(\"row\",row_number().over(w2)) \\\n",
        "  .filter(col(\"row\") == 1).drop(\"row\")\n",
        "df88.select(\"team\", \"rank\").sort(\"rank\").show(11)"
      ],
      "metadata": {
        "colab": {
          "base_uri": "https://localhost:8080/"
        },
        "id": "gFpMWvK9-Ntd",
        "outputId": "d301f9d3-bcc5-4d0b-e442-c4a8b6e8b632"
      },
      "execution_count": 458,
      "outputs": [
        {
          "output_type": "stream",
          "name": "stdout",
          "text": [
            "+-----------+----+\n",
            "|       team|rank|\n",
            "+-----------+----+\n",
            "|    Belgium|   1|\n",
            "|    Belgium|   2|\n",
            "|     France|   3|\n",
            "|  Argentina|   4|\n",
            "|    England|   5|\n",
            "|      Italy|   6|\n",
            "|      Spain|   7|\n",
            "|   Portugal|   8|\n",
            "|    Denmark|   9|\n",
            "|Netherlands|  10|\n",
            "|    Germany|  11|\n",
            "+-----------+----+\n",
            "only showing top 11 rows\n",
            "\n"
          ]
        }
      ]
    },
    {
      "cell_type": "code",
      "source": [
        "t = [row[0] for row in df88.select(\"team\").collect()]\n",
        "s = [row[0] for row in df88.select(\"rank\").collect()]\n",
        "t = t[:10]\n",
        "s = s[:10]"
      ],
      "metadata": {
        "id": "uFzFngeFRo-p"
      },
      "execution_count": 459,
      "outputs": []
    },
    {
      "cell_type": "code",
      "source": [
        "fig = plt.figure(figsize = (10, 5))\n",
        "plt.bar(np.arange(len(t)), s, width = 0.7)\n",
        "plt.xlabel(\"teams\")\n",
        "plt.ylabel(\"defens Score\")\n",
        "plt.xticks(np.arange(len(t)), t)\n",
        "plt.show()"
      ],
      "metadata": {
        "colab": {
          "base_uri": "https://localhost:8080/",
          "height": 334
        },
        "id": "gDxRyb-IR3L0",
        "outputId": "e9164384-8fd7-4e8e-c48b-4a23b7654c15"
      },
      "execution_count": 460,
      "outputs": [
        {
          "output_type": "display_data",
          "data": {
            "text/plain": [
              "<Figure size 720x360 with 1 Axes>"
            ],
            "image/png": "[encoded data removed]"
          },
          "metadata": {
            "needs_background": "light"
          }
        }
      ]
    },
    {
      "cell_type": "markdown",
      "source": [],
      "metadata": {
        "id": "gWt5lEx3Xqu5"
      }
    },
    {
      "cell_type": "markdown",
      "source": [
        "## Top 10 attacking teams in the last FIFA date"
      ],
      "metadata": {
        "id": "8YNvd3AZG-vm"
      }
    },
    {
      "cell_type": "code",
      "source": [
        "df = df.na.drop()"
      ],
      "metadata": {
        "id": "Z-fKzaipAeRs"
      },
      "execution_count": 377,
      "outputs": []
    },
    {
      "cell_type": "code",
      "source": [
        "df_international1 = df.select('date','home_team', 'away_team', 'home_team_mean_offense_score', 'away_team_mean_offense_score')\n",
        "df_home =df_international1.select('date', 'home_team', 'home_team_mean_offense_score')\n",
        "df_away=df_international1.select('date', 'away_team', 'away_team_mean_offense_score')\n",
        "df_home = df_home.withColumnRenamed('home_team','team')\n",
        "df_home = df_home.withColumnRenamed('home_team_mean_offense_score','offense_score')\n",
        "df_away = df_away.withColumnRenamed('away_team','team')\n",
        "df_away = df_away.withColumnRenamed('away_team_mean_offense_score','offense_score')\n",
        "df_international1 = df_home.union(df_away)\n",
        "df_international1.groupBy(\"team\")"
      ],
      "metadata": {
        "colab": {
          "base_uri": "https://localhost:8080/"
        },
        "id": "S_X9M9yu-wjE",
        "outputId": "1b26090d-94f3-4d0e-f49d-fd3c19b402d7"
      },
      "execution_count": 378,
      "outputs": [
        {
          "output_type": "execute_result",
          "data": {
            "text/plain": [
              "<pyspark.sql.group.GroupedData at 0x7f6391a5e2e0>"
            ]
          },
          "metadata": {},
          "execution_count": 378
        }
      ]
    },
    {
      "cell_type": "code",
      "source": [
        "df_international1.show()"
      ],
      "metadata": {
        "colab": {
          "base_uri": "https://localhost:8080/"
        },
        "id": "z2VBEpXJ_n2s",
        "outputId": "d7b84043-29bf-4ad2-f656-89a4bd3a73ee"
      },
      "execution_count": 379,
      "outputs": [
        {
          "output_type": "stream",
          "name": "stdout",
          "text": [
            "+-------------------+--------------------+-------------+\n",
            "|               date|                team|offense_score|\n",
            "+-------------------+--------------------+-------------+\n",
            "|2004-09-03 00:00:00|               Spain|         89.3|\n",
            "|2004-09-04 00:00:00|             Austria|         73.0|\n",
            "|2004-09-04 00:00:00|             Croatia|         78.7|\n",
            "|2004-09-04 00:00:00|             Iceland|         77.0|\n",
            "|2004-09-04 00:00:00|               Italy|         92.3|\n",
            "|2004-09-04 00:00:00|             Morocco|         73.7|\n",
            "|2004-09-04 00:00:00|    Northern Ireland|         65.7|\n",
            "|2004-09-04 00:00:00|              Russia|         79.7|\n",
            "|2004-09-08 00:00:00|Bosnia and Herzeg...|         74.3|\n",
            "|2004-09-08 00:00:00|          Costa Rica|         72.7|\n",
            "|2004-09-08 00:00:00|             Germany|         82.7|\n",
            "|2004-09-08 00:00:00|              Greece|         83.7|\n",
            "|2004-09-08 00:00:00|             Hungary|         75.7|\n",
            "|2004-09-08 00:00:00|         Netherlands|         93.0|\n",
            "|2004-09-08 00:00:00|              Poland|         80.3|\n",
            "|2004-09-08 00:00:00|            Scotland|         79.7|\n",
            "|2004-09-08 00:00:00|              Sweden|         83.3|\n",
            "|2004-09-08 00:00:00|         Switzerland|         77.0|\n",
            "|2004-09-08 00:00:00|               Wales|         79.3|\n",
            "|2004-10-09 00:00:00|           Argentina|         87.0|\n",
            "+-------------------+--------------------+-------------+\n",
            "only showing top 20 rows\n",
            "\n"
          ]
        }
      ]
    },
    {
      "cell_type": "code",
      "source": [
        "to_date(col(\"date\"),\"yyyy-mm-dd\") \n",
        "df7= df_international1.sort(df_international1.team.asc(),df_international1.date.desc(),df_international1.offense_score.desc())\n",
        "df7 = df7.select(\"team\", \"offense_score\", year(\"date\").alias(\"year\")).filter(col(\"year\")>=2022).drop(\"year\")\n",
        "df7 = df7.groupBy(\"team\", \"offense_score\").count()\n",
        "df7 = df7.sort(df7.offense_score.desc())\n",
        "df8 = df7.select(\"team\", \"offense_score\")\n",
        "df8.show(10)"
      ],
      "metadata": {
        "colab": {
          "base_uri": "https://localhost:8080/"
        },
        "id": "Ka3SGRKvAyHg",
        "outputId": "c85b75c2-6313-4ded-d62b-9ae26f766d99"
      },
      "execution_count": 415,
      "outputs": [
        {
          "output_type": "stream",
          "name": "stdout",
          "text": [
            "+---------+-------------+\n",
            "|     team|offense_score|\n",
            "+---------+-------------+\n",
            "|Argentina|         89.0|\n",
            "|   France|         88.3|\n",
            "|  England|         88.0|\n",
            "|   Brazil|         86.3|\n",
            "| Portugal|         86.0|\n",
            "|  Belgium|         85.7|\n",
            "|    Italy|         85.3|\n",
            "|    Spain|         85.0|\n",
            "|   Poland|         84.7|\n",
            "|  Uruguay|         84.3|\n",
            "+---------+-------------+\n",
            "only showing top 10 rows\n",
            "\n"
          ]
        }
      ]
    },
    {
      "cell_type": "code",
      "source": [
        "t = [row[0] for row in df8.select(\"team\").collect()]\n",
        "s = [row[0] for row in df8.select(\"offense_score\").collect()]\n",
        "t = t[:10]\n",
        "s = s[:10]"
      ],
      "metadata": {
        "id": "EGcW9jcgEq1S"
      },
      "execution_count": 416,
      "outputs": []
    },
    {
      "cell_type": "code",
      "source": [
        "fig = plt.figure(figsize = (10, 5))\n",
        "plt.bar(np.arange(len(t)), s, width = 0.7)\n",
        "plt.xlabel(\"teams\")\n",
        "plt.ylabel(\"Offense Score\")\n",
        "plt.xticks(np.arange(len(t)), t)\n",
        "plt.show()"
      ],
      "metadata": {
        "colab": {
          "base_uri": "https://localhost:8080/",
          "height": 334
        },
        "id": "yv4ICV5wCkxN",
        "outputId": "fb683843-6cae-4841-b7f2-0bf509f35ddd"
      },
      "execution_count": 413,
      "outputs": [
        {
          "output_type": "display_data",
          "data": {
            "text/plain": [
              "<Figure size 720x360 with 1 Axes>"
            ],
            "image/png": "[encoded data removed]"
          },
          "metadata": {
            "needs_background": "light"
          }
        }
      ]
    },
    {
      "cell_type": "markdown",
      "source": [
        "\\# "
      ],
      "metadata": {
        "id": "N6QhcH-pHYkT"
      }
    },
    {
      "cell_type": "markdown",
      "source": [
        "## Top 10 defending teams in the last FIFA date"
      ],
      "metadata": {
        "id": "1MJeHNmmH0wx"
      }
    },
    {
      "cell_type": "code",
      "source": [
        "df_international2 = df.select('date','home_team', 'away_team', 'home_team_mean_defense_score', 'away_team_mean_defense_score')\n",
        "df_home =df_international2.select('date', 'home_team', 'home_team_mean_defense_score')\n",
        "df_away=df_international2.select('date', 'away_team', 'away_team_mean_defense_score')\n",
        "df_home = df_home.withColumnRenamed('home_team','team')\n",
        "df_home = df_home.withColumnRenamed('home_team_mean_defense_score','defense_score')\n",
        "df_away = df_away.withColumnRenamed('away_team','team')\n",
        "df_away = df_away.withColumnRenamed('away_team_mean_defense_score','defense_score')\n",
        "df_international2 = df_home.union(df_away)\n",
        "df_international2.groupBy(\"team\")"
      ],
      "metadata": {
        "colab": {
          "base_uri": "https://localhost:8080/"
        },
        "id": "XxiaJgRIH7Rf",
        "outputId": "7d7ad5bf-9ce4-4eff-dca1-28e49ae5eb49"
      },
      "execution_count": 419,
      "outputs": [
        {
          "output_type": "execute_result",
          "data": {
            "text/plain": [
              "<pyspark.sql.group.GroupedData at 0x7f63825d7f10>"
            ]
          },
          "metadata": {},
          "execution_count": 419
        }
      ]
    },
    {
      "cell_type": "code",
      "source": [
        "df_international2.show(10)"
      ],
      "metadata": {
        "colab": {
          "base_uri": "https://localhost:8080/"
        },
        "id": "Qy70aEXAIPRg",
        "outputId": "20d6d524-83fb-425e-bb2e-3efd4ba94498"
      },
      "execution_count": 421,
      "outputs": [
        {
          "output_type": "stream",
          "name": "stdout",
          "text": [
            "+-------------------+--------------------+-------------+\n",
            "|               date|                team|defense_score|\n",
            "+-------------------+--------------------+-------------+\n",
            "|2004-09-03 00:00:00|               Spain|         86.5|\n",
            "|2004-09-04 00:00:00|             Austria|         76.2|\n",
            "|2004-09-04 00:00:00|             Croatia|         80.5|\n",
            "|2004-09-04 00:00:00|             Iceland|         68.8|\n",
            "|2004-09-04 00:00:00|               Italy|         91.8|\n",
            "|2004-09-04 00:00:00|             Morocco|         75.2|\n",
            "|2004-09-04 00:00:00|    Northern Ireland|         71.8|\n",
            "|2004-09-04 00:00:00|              Russia|         75.5|\n",
            "|2004-09-08 00:00:00|Bosnia and Herzeg...|         72.2|\n",
            "|2004-09-08 00:00:00|          Costa Rica|         69.5|\n",
            "+-------------------+--------------------+-------------+\n",
            "only showing top 10 rows\n",
            "\n"
          ]
        }
      ]
    },
    {
      "cell_type": "code",
      "source": [
        "to_date(col(\"date\"),\"yyyy-mm-dd\") \n",
        "df7= df_international2.sort(df_international2.team.asc(),df_international2.date.desc(),df_international2.defense_score.desc())\n",
        "df7 = df7.select(\"team\", \"defense_score\", year(\"date\").alias(\"year\")).filter(col(\"year\")>=2022).drop(\"year\")\n",
        "df7 = df7.groupBy(\"team\", \"defense_score\").count()\n",
        "df7 = df7.sort(df7.defense_score.desc())\n",
        "df8 = df7.select(\"team\", \"defense_score\")\n",
        "df8.show(10)"
      ],
      "metadata": {
        "colab": {
          "base_uri": "https://localhost:8080/"
        },
        "id": "9fFfb6a_ITM7",
        "outputId": "51fb3e7a-9afc-4c0f-ca10-70e420a26a39"
      },
      "execution_count": 422,
      "outputs": [
        {
          "output_type": "stream",
          "name": "stdout",
          "text": [
            "+-----------+-------------+\n",
            "|       team|defense_score|\n",
            "+-----------+-------------+\n",
            "|      Spain|         86.5|\n",
            "|Netherlands|         85.2|\n",
            "|   Portugal|         85.2|\n",
            "|    England|         85.0|\n",
            "|     Brazil|         84.8|\n",
            "|      Italy|         84.2|\n",
            "|     France|         84.2|\n",
            "|    Germany|         84.0|\n",
            "|  Argentina|         82.2|\n",
            "|    Morocco|         81.2|\n",
            "+-----------+-------------+\n",
            "only showing top 10 rows\n",
            "\n"
          ]
        }
      ]
    },
    {
      "cell_type": "code",
      "source": [
        "t = [row[0] for row in df8.select(\"team\").collect()]\n",
        "s = [row[0] for row in df8.select(\"defense_score\").collect()]\n",
        "t = t[:10]\n",
        "s = s[:10]"
      ],
      "metadata": {
        "id": "Bndier6iIlS8"
      },
      "execution_count": 423,
      "outputs": []
    },
    {
      "cell_type": "code",
      "source": [
        "fig = plt.figure(figsize = (10, 5))\n",
        "plt.bar(np.arange(len(t)), s, width = 0.7)\n",
        "plt.xlabel(\"teams\")\n",
        "plt.ylabel(\"defens Score\")\n",
        "plt.xticks(np.arange(len(t)), t)\n",
        "plt.show()"
      ],
      "metadata": {
        "colab": {
          "base_uri": "https://localhost:8080/",
          "height": 334
        },
        "id": "IssN4hrhItlH",
        "outputId": "e01709c7-9403-4fd2-9f46-5d5f9c39811b"
      },
      "execution_count": 424,
      "outputs": [
        {
          "output_type": "display_data",
          "data": {
            "text/plain": [
              "<Figure size 720x360 with 1 Axes>"
            ],
            "image/png": "[encoded data removed]"
          },
          "metadata": {
            "needs_background": "light"
          }
        }
      ]
    },
    {
      "cell_type": "markdown",
      "source": [
        "# Reading the data for machine learning models"
      ],
      "metadata": {
        "id": "-lrN2JKq20LS"
      }
    },
    {
      "cell_type": "code",
      "source": [
        "import pandas as pd\n",
        "import numpy as np"
      ],
      "metadata": {
        "id": "lzt1xJBL5lLv"
      },
      "execution_count": 430,
      "outputs": []
    },
    {
      "cell_type": "code",
      "source": [
        "!pip3 install pyspark\n",
        "import pyspark"
      ],
      "metadata": {
        "colab": {
          "base_uri": "https://localhost:8080/"
        },
        "id": "3FCSLfzL5SD-",
        "outputId": "88ce0fdc-df88-418a-d139-3aaafe594759"
      },
      "execution_count": 431,
      "outputs": [
        {
          "output_type": "stream",
          "name": "stdout",
          "text": [
            "Looking in indexes: https://pypi.org/simple, https://us-python.pkg.dev/colab-wheels/public/simple/\n",
            "Requirement already satisfied: pyspark in /usr/local/lib/python3.8/dist-packages (3.3.1)\n",
            "Requirement already satisfied: py4j==0.10.9.5 in /usr/local/lib/python3.8/dist-packages (from pyspark) (0.10.9.5)\n"
          ]
        }
      ]
    },
    {
      "cell_type": "code",
      "source": [
        "spark = pyspark.sql.SparkSession.builder\\\n",
        "        .master('local[*]')\\\n",
        "        .appName('vikra_finalProject final')\\\n",
        "        .getOrCreate()"
      ],
      "metadata": {
        "id": "xONFBOyC5VNw"
      },
      "execution_count": 432,
      "outputs": []
    },
    {
      "cell_type": "code",
      "source": [
        "sc = spark.sparkContext\n",
        "sc.setLogLevel(\"ERROR\")\n",
        "sc"
      ],
      "metadata": {
        "colab": {
          "base_uri": "https://localhost:8080/",
          "height": 196
        },
        "id": "LGsBHdaz5aUv",
        "outputId": "f2649b20-9f4e-41fe-b086-2993d773287a"
      },
      "execution_count": 433,
      "outputs": [
        {
          "output_type": "execute_result",
          "data": {
            "text/plain": [
              "<SparkContext master=local[*] appName=vikram_finalProject final>"
            ],
            "text/html": [
              "\n",
              "        <div>\n",
              "            <p><b>SparkContext</b></p>\n",
              "\n",
              "            <p><a href=\"http://3573aa5d2457:4040\">Spark UI</a></p>\n",
              "\n",
              "            <dl>\n",
              "              <dt>Version</dt>\n",
              "                <dd><code>v3.3.1</code></dd>\n",
              "              <dt>Master</dt>\n",
              "                <dd><code>local[*]</code></dd>\n",
              "              <dt>AppName</dt>\n",
              "                <dd><code>vikram_finalProject final</code></dd>\n",
              "            </dl>\n",
              "        </div>\n",
              "        "
            ]
          },
          "metadata": {},
          "execution_count": 433
        }
      ]
    },
    {
      "cell_type": "code",
      "source": [
        "from google.colab import drive\n",
        "drive.mount('/content/drive')"
      ],
      "metadata": {
        "colab": {
          "base_uri": "https://localhost:8080/"
        },
        "id": "9Q-WoqN85c85",
        "outputId": "f076b83c-185d-4523-f761-8b37c5292ead"
      },
      "execution_count": 434,
      "outputs": [
        {
          "output_type": "stream",
          "name": "stdout",
          "text": [
            "Drive already mounted at /content/drive; to attempt to forcibly remount, call drive.mount(\"/content/drive\", force_remount=True).\n"
          ]
        }
      ]
    },
    {
      "cell_type": "markdown",
      "source": [
        "# Machine Learning Models"
      ],
      "metadata": {
        "id": "ssDuL0Em3xnh"
      }
    },
    {
      "cell_type": "markdown",
      "source": [
        "## Random forest"
      ],
      "metadata": {
        "id": "LMfetJFh2tDm"
      }
    },
    {
      "cell_type": "code",
      "source": [
        "from pyspark.ml import Pipeline\n",
        "from pyspark.ml.classification import RandomForestClassifier\n",
        "from pyspark.ml.feature import IndexToString, StringIndexer, VectorIndexer\n",
        "from pyspark.ml.evaluation import MulticlassClassificationEvaluator"
      ],
      "metadata": {
        "id": "njoWuxfuO8qQ"
      },
      "execution_count": 440,
      "outputs": []
    },
    {
      "cell_type": "code",
      "source": [
        "va_df = assembler.transform(df)"
      ],
      "metadata": {
        "id": "ixF05EWAPrmC"
      },
      "execution_count": 441,
      "outputs": []
    },
    {
      "cell_type": "code",
      "source": [
        "va_df = va_df.select(['features', 'label'])\n",
        "va_df.show(3)"
      ],
      "metadata": {
        "colab": {
          "base_uri": "https://localhost:8080/"
        },
        "id": "QNc6ptymPslo",
        "outputId": "8f85d267-27a2-4891-b6b1-bb92bc90b4f7"
      },
      "execution_count": 442,
      "outputs": [
        {
          "output_type": "stream",
          "name": "stdout",
          "text": [
            "+--------------------+-----+\n",
            "|            features|label|\n",
            "+--------------------+-----+\n",
            "|[59.0,22.0,1.0,67...|    1|\n",
            "|[8.0,14.0,2.0,86....|    2|\n",
            "|[35.0,94.0,1.0,71...|    1|\n",
            "+--------------------+-----+\n",
            "only showing top 3 rows\n",
            "\n"
          ]
        }
      ]
    },
    {
      "cell_type": "code",
      "source": [
        "# Index labels, adding metadata to the label column.\n",
        "# Fit on whole dataset to include all labels in index.\n",
        "labelIndexer = StringIndexer(inputCol=\"label\", outputCol=\"indexedLabel\").fit(va_df)"
      ],
      "metadata": {
        "id": "jLsJ5QBEO4bl"
      },
      "execution_count": null,
      "outputs": []
    },
    {
      "cell_type": "code",
      "source": [
        "featureIndexer =\\\n",
        "    VectorIndexer(inputCol=\"features\", outputCol=\"indexedFeatures\", maxCategories=4).fit(va_df)"
      ],
      "metadata": {
        "id": "mV4W7GtqRqh6"
      },
      "execution_count": null,
      "outputs": []
    },
    {
      "cell_type": "code",
      "source": [
        "(trainingData, testData) = va_df.randomSplit([0.8, 0.2])"
      ],
      "metadata": {
        "id": "31gFpKqZPD3F"
      },
      "execution_count": null,
      "outputs": []
    },
    {
      "cell_type": "code",
      "source": [
        "rf = RandomForestClassifier(labelCol=\"indexedLabel\", featuresCol=\"indexedFeatures\", numTrees=2)"
      ],
      "metadata": {
        "id": "R8VzVcjDQujf"
      },
      "execution_count": null,
      "outputs": []
    },
    {
      "cell_type": "code",
      "source": [
        "labelConverter = IndexToString(inputCol=\"prediction\", outputCol=\"predictedLabel\",\n",
        "                               labels=labelIndexer.labels)"
      ],
      "metadata": {
        "id": "st02ucxMQzIf"
      },
      "execution_count": null,
      "outputs": []
    },
    {
      "cell_type": "code",
      "source": [
        "pipeline = Pipeline(stages=[labelIndexer, featureIndexer, rf, labelConverter])"
      ],
      "metadata": {
        "id": "dgyoQBsAR84H"
      },
      "execution_count": null,
      "outputs": []
    },
    {
      "cell_type": "code",
      "source": [
        "model = pipeline.fit(trainingData)"
      ],
      "metadata": {
        "id": "ruf2sffkRZH_"
      },
      "execution_count": null,
      "outputs": []
    },
    {
      "cell_type": "code",
      "source": [
        "predictions = model.transform(testData)"
      ],
      "metadata": {
        "id": "fnBpvUm0RCdf"
      },
      "execution_count": null,
      "outputs": []
    },
    {
      "cell_type": "code",
      "source": [
        "predictions.select(\"predictedLabel\", \"label\", \"features\").show()"
      ],
      "metadata": {
        "colab": {
          "base_uri": "https://localhost:8080/"
        },
        "id": "WjlCvaHaSIil",
        "outputId": "18858b55-dbe2-41bc-ef40-6cc18dcbb5d0"
      },
      "execution_count": null,
      "outputs": [
        {
          "output_type": "stream",
          "name": "stdout",
          "text": [
            "+--------------+-----+--------------------+\n",
            "|predictedLabel|label|            features|\n",
            "+--------------+-----+--------------------+\n",
            "|             1|    1|[1.0,3.0,1.0,93.0...|\n",
            "|             0|    0|[1.0,4.0,0.0,89.0...|\n",
            "|             1|    1|[1.0,4.0,1.0,82.0...|\n",
            "|             1|    1|[1.0,5.0,1.0,79.0...|\n",
            "|             1|    1|[1.0,5.0,1.0,82.0...|\n",
            "|             1|    1|[1.0,8.0,1.0,88.0...|\n",
            "|             1|    1|[1.0,11.0,1.0,91....|\n",
            "|             1|    1|[1.0,13.0,1.0,86....|\n",
            "|             1|    1|[1.0,15.0,1.0,86....|\n",
            "|             1|    1|[1.0,16.0,1.0,88....|\n",
            "|             1|    1|[1.0,18.0,1.0,89....|\n",
            "|             1|    1|[1.0,18.0,1.0,89....|\n",
            "|             2|    0|[1.0,19.0,0.0,86....|\n",
            "|             1|    1|[1.0,21.0,1.0,86....|\n",
            "|             1|    1|[1.0,21.0,1.0,89....|\n",
            "|             1|    1|[1.0,28.0,1.0,90....|\n",
            "|             2|    2|[1.0,28.0,2.0,93....|\n",
            "|             1|    1|[1.0,30.0,1.0,88....|\n",
            "|             1|    1|[1.0,31.0,1.0,88....|\n",
            "|             1|    1|[1.0,32.0,1.0,83....|\n",
            "+--------------+-----+--------------------+\n",
            "only showing top 20 rows\n",
            "\n"
          ]
        }
      ]
    },
    {
      "cell_type": "code",
      "source": [
        "evaluator = MulticlassClassificationEvaluator(\n",
        "    labelCol=\"indexedLabel\", predictionCol=\"prediction\", metricName=\"accuracy\")\n",
        "accuracy = evaluator.evaluate(predictions)\n",
        "print(\"Accuracy = %s\" % (accuracy))\n",
        "print(\"Test Error = %g\" % (1.0 - accuracy))"
      ],
      "metadata": {
        "colab": {
          "base_uri": "https://localhost:8080/"
        },
        "id": "8fiMP5X6SLJS",
        "outputId": "43f525b6-6f18-4527-8bac-a8cb01d4d65a"
      },
      "execution_count": null,
      "outputs": [
        {
          "output_type": "stream",
          "name": "stdout",
          "text": [
            "Accuracy = 0.9633077765607886\n",
            "Test Error = 0.0366922\n"
          ]
        }
      ]
    },
    {
      "cell_type": "markdown",
      "source": [
        "## NaiveByes"
      ],
      "metadata": {
        "id": "LPIDJEa32aL6"
      }
    },
    {
      "cell_type": "code",
      "source": [
        "from pyspark.ml.classification import NaiveBayes\n",
        "from pyspark.ml.evaluation import MulticlassClassificationEvaluator"
      ],
      "metadata": {
        "id": "eaicNxQNvjcH"
      },
      "execution_count": null,
      "outputs": []
    },
    {
      "cell_type": "code",
      "source": [
        "(trainingData, testData) = va_df.randomSplit([0.8, 0.2])"
      ],
      "metadata": {
        "id": "EBJcyaQKvz_3"
      },
      "execution_count": null,
      "outputs": []
    },
    {
      "cell_type": "code",
      "source": [
        "splits = va_df.randomSplit([0.6, 0.4], 1234)"
      ],
      "metadata": {
        "id": "EXZvIlNVvrup"
      },
      "execution_count": null,
      "outputs": []
    },
    {
      "cell_type": "code",
      "source": [
        "train = splits[0]\n",
        "test = splits[1]"
      ],
      "metadata": {
        "id": "GYY7mUWsv3nb"
      },
      "execution_count": null,
      "outputs": []
    },
    {
      "cell_type": "code",
      "source": [
        "nb = NaiveBayes(smoothing=1.0, modelType=\"multinomial\")"
      ],
      "metadata": {
        "id": "GUiHZEAlv6EI"
      },
      "execution_count": null,
      "outputs": []
    },
    {
      "cell_type": "code",
      "source": [
        "model = nb.fit(train)"
      ],
      "metadata": {
        "id": "Ck9MzWIov8NQ"
      },
      "execution_count": null,
      "outputs": []
    },
    {
      "cell_type": "code",
      "source": [
        "result = model.transform(test)\n",
        "predictionAndLabels = result.select(\"prediction\", \"label\")\n",
        "evaluator = MulticlassClassificationEvaluator(metricName=\"accuracy\")\n",
        "print(\"Accuracy: \" + str(evaluator.evaluate(predictionAndLabels)))"
      ],
      "metadata": {
        "colab": {
          "base_uri": "https://localhost:8080/"
        },
        "id": "5R6GKpFbv-M3",
        "outputId": "026a2d96-8c10-4913-98e8-38b571f2cb2c"
      },
      "execution_count": null,
      "outputs": [
        {
          "output_type": "stream",
          "name": "stdout",
          "text": [
            "Accuracy: 0.5967828418230563\n"
          ]
        }
      ]
    },
    {
      "cell_type": "code",
      "source": [
        "result.select(\"prediction\", \"label\", \"features\").show()"
      ],
      "metadata": {
        "colab": {
          "base_uri": "https://localhost:8080/"
        },
        "id": "yhEjlXdL2V4D",
        "outputId": "52523316-0de9-44d3-e3d2-98d99fec5ef4"
      },
      "execution_count": null,
      "outputs": [
        {
          "output_type": "stream",
          "name": "stdout",
          "text": [
            "+----------+-----+--------------------+\n",
            "|prediction|label|            features|\n",
            "+----------+-----+--------------------+\n",
            "|       2.0|    0|[1.0,2.0,0.0,90.0...|\n",
            "|       2.0|    0|[1.0,2.0,0.0,92.0...|\n",
            "|       2.0|    0|[1.0,4.0,0.0,89.0...|\n",
            "|       2.0|    1|[1.0,5.0,1.0,79.0...|\n",
            "|       2.0|    1|[1.0,5.0,1.0,86.0...|\n",
            "|       2.0|    2|[1.0,5.0,2.0,89.0...|\n",
            "|       2.0|    0|[1.0,7.0,0.0,89.0...|\n",
            "|       2.0|    0|[1.0,8.0,0.0,91.0...|\n",
            "|       2.0|    1|[1.0,8.0,1.0,86.0...|\n",
            "|       2.0|    1|[1.0,8.0,1.0,86.0...|\n",
            "|       2.0|    1|[1.0,8.0,1.0,88.0...|\n",
            "|       2.0|    1|[1.0,8.0,1.0,91.0...|\n",
            "|       2.0|    1|[1.0,9.0,1.0,86.0...|\n",
            "|       2.0|    1|[1.0,9.0,1.0,86.0...|\n",
            "|       2.0|    2|[1.0,9.0,2.0,86.0...|\n",
            "|       2.0|    1|[1.0,10.0,1.0,86....|\n",
            "|       2.0|    1|[1.0,11.0,1.0,86....|\n",
            "|       2.0|    1|[1.0,12.0,1.0,82....|\n",
            "|       2.0|    1|[1.0,12.0,1.0,86....|\n",
            "|       2.0|    1|[1.0,13.0,1.0,86....|\n",
            "+----------+-----+--------------------+\n",
            "only showing top 20 rows\n",
            "\n"
          ]
        }
      ]
    }
  ]
}